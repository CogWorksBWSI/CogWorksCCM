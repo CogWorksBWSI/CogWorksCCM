{
 "cells": [
  {
   "cell_type": "markdown",
   "metadata": {},
   "source": [
    "# Camera Tutorial\n",
    "\n",
    "We will step through the simple functions that `face_rec` provides to allow you to use your camera via Python. Please be sure that you have installed OpenCV with the Python bindings (see repo README)."
   ]
  },
  {
   "cell_type": "markdown",
   "metadata": {},
   "source": [
    "## Configuring Your Camera\n",
    "Your camera configuration is comprised of:\n",
    "  - your camera port (default=0)\n",
    "  - the exposure time (default=0.1)\n",
    " \n",
    "On devices with two cameras, you may need to set the port to 1 in order to access the keyboard-facing camera. This is the case on the Surface Pro, for instance. The exposure is the amount of time, in seconds, to wait before taking the picture. Increase the exposure time if your photo is too dark.\n",
    "\n",
    "Let's test a configuration:"
   ]
  },
  {
   "cell_type": "code",
   "execution_count": null,
   "metadata": {},
   "outputs": [],
   "source": [
    "%matplotlib notebook\n",
    "from camera import test_camera\n",
    "\n",
    "fig, ax, img = test_camera(port=1, exposure=.3)"
   ]
  },
  {
   "cell_type": "markdown",
   "metadata": {},
   "source": [
    "Looks like this is a good configuration! If I had left the port and exposure blank, it would have used my current configured value - or the default values if there is no config file.\n",
    "\n",
    "Saving the configuration:"
   ]
  },
  {
   "cell_type": "code",
   "execution_count": null,
   "metadata": {},
   "outputs": [],
   "source": [
    "from camera import save_camera_config\n",
    "save_camera_config(port=1, exposure=0.2)"
   ]
  },
  {
   "cell_type": "markdown",
   "metadata": {},
   "source": [
    "The config file is saved to: face_rec/camera/config.ini:\n",
    "\n",
    "```\n",
    "[camera device]\n",
    "port = 1\n",
    "exposure = 0.2\n",
    "```"
   ]
  },
  {
   "cell_type": "markdown",
   "metadata": {},
   "source": [
    "## Taking a Picture\n",
    "Taking a picture returns the numpy array of RGB values of the photo. This can be displayed by using matplotlib's `imshow`. `take_picture` will use your saved camera configuration (or the default config)."
   ]
  },
  {
   "cell_type": "code",
   "execution_count": null,
   "metadata": {},
   "outputs": [],
   "source": [
    "%matplotlib notebook\n",
    "from camera import take_picture\n",
    "import matplotlib.pyplot as plt\n",
    "img_array = take_picture()\n",
    "\n",
    "fig,ax = plt.subplots()\n",
    "ax.imshow(img_array)"
   ]
  },
  {
   "cell_type": "markdown",
   "metadata": {},
   "source": [
    "## Accessing the Camera\n",
    "If you want to access the camera in a more generic way, a context manager is supplied so that control over the camera is always relinquished by your code. You can manually set the port and exposure time, bypassing the config/default, if you'd like. Read the [docs on `cv2.VideoCapture`](http://docs.opencv.org/2.4/modules/highgui/doc/reading_and_writing_images_and_video.html#videocapture-videocapture) for details into what can be done with the camera."
   ]
  },
  {
   "cell_type": "code",
   "execution_count": null,
   "metadata": {},
   "outputs": [],
   "source": [
    "from camera import use_camera\n",
    "\n",
    "# This will wait 0.5 seconds and then yield the active\n",
    "# port-1 camera. Leaving the context releases the camera.\n",
    "# You can read frames to take images or videos.\n",
    "with use_camera(port=1, exposure=.5) as camera:\n",
    "    # do stuff with camera\n",
    "    # leaving this context releases camera"
   ]
  },
  {
   "cell_type": "code",
   "execution_count": null,
   "metadata": {
    "collapsed": true
   },
   "outputs": [],
   "source": []
  }
 ],
 "metadata": {
  "kernelspec": {
   "display_name": "Python 3",
   "language": "python",
   "name": "python3"
  },
  "language_info": {
   "codemirror_mode": {
    "name": "ipython",
    "version": 3
   },
   "file_extension": ".py",
   "mimetype": "text/x-python",
   "name": "python",
   "nbconvert_exporter": "python",
   "pygments_lexer": "ipython3",
   "version": "3.6.1"
  }
 },
 "nbformat": 4,
 "nbformat_minor": 1
}
